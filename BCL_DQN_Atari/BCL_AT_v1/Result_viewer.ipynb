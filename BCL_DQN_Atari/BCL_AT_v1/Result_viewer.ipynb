{
 "cells": [
  {
   "cell_type": "code",
   "execution_count": 11,
   "metadata": {},
   "outputs": [],
   "source": [
    "import numpy as np"
   ]
  },
  {
   "cell_type": "code",
   "execution_count": 28,
   "metadata": {},
   "outputs": [],
   "source": [
    "#path = 'figures/BankHeistNoFrameskip-v4_2020-05-25_10:08:01_last/' #sadqn 0.02\n",
    "#path = 'figures/PongNoFrameskip-v4_2020-05-25_23:17:07_last/'\n",
    "#path = 'figures/PongNoFrameskip-v4_2020-05-26_11:55:51_best/'\n",
    "#path = 'figures/RoadRunnerNoFrameskip-v4_2020-05-25_10:08:46_last/' #sadqn 0.02\n",
    "#path = 'figures/PongNoFrameskip-v4_2020-05-29_13:16:04_last/' #sadqn 0.02\n",
    "path = 'figures/PongNoFrameskip-v4_2021-12-15_13_43_42_last/'"
   ]
  },
  {
   "cell_type": "code",
   "execution_count": 31,
   "metadata": {
    "scrolled": true
   },
   "outputs": [
    {
     "name": "stdout",
     "output_type": "stream",
     "text": [
      "[7 8]\n",
      "[18.1  8. ]\n",
      "[0.69245939 4.03050865]\n"
     ]
    }
   ],
   "source": [
    "eps = np.load(path + 'pgd_epsilons_78.npy')\n",
    "print(eps)\n",
    "vals = np.load(path + 'pgd_10steps_78.npy')\n",
    "print(np.mean(vals, axis=1))\n",
    "sem = np.std(vals, axis=1)/np.sqrt(np.shape(vals)[1])\n",
    "print(sem)"
   ]
  },
  {
   "cell_type": "code",
   "execution_count": 30,
   "metadata": {},
   "outputs": [
    {
     "name": "stdout",
     "output_type": "stream",
     "text": [
      "7.95\n",
      "1.1799894067321113\n"
     ]
    }
   ],
   "source": [
    "vals = np.load(path + 'nominal.npy')\n",
    "print(np.mean(vals, axis=0))\n",
    "sem = np.std(vals, axis=0)/np.sqrt(np.shape(vals)[0])\n",
    "print(sem)"
   ]
  },
  {
   "cell_type": "code",
   "execution_count": null,
   "metadata": {},
   "outputs": [],
   "source": []
  },
  {
   "cell_type": "code",
   "execution_count": null,
   "metadata": {},
   "outputs": [],
   "source": []
  }
 ],
 "metadata": {
  "kernelspec": {
   "display_name": "Python 3",
   "language": "python",
   "name": "python3"
  },
  "language_info": {
   "codemirror_mode": {
    "name": "ipython",
    "version": 3
   },
   "file_extension": ".py",
   "mimetype": "text/x-python",
   "name": "python",
   "nbconvert_exporter": "python",
   "pygments_lexer": "ipython3",
   "version": "3.7.7"
  }
 },
 "nbformat": 4,
 "nbformat_minor": 4
}
